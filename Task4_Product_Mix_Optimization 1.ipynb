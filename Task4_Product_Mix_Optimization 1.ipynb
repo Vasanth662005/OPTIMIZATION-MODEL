{
 "cells": [
  {
   "cell_type": "markdown",
   "id": "f36f2146",
   "metadata": {},
   "source": [
    "# Data Science Internship Task 4 — Product Mix Optimization\n",
    "\n",
    "**Internship Organization:** CODTECH  \n",
    "**Intern Name:** vasantha kumar N  \n",
    "**Task Title:** Solve a Business Problem Using Optimization  \n",
    "**Technology Stack:** Python, PuLP, Jupyter Notebook  \n",
    "\n",
    "---\n",
    "\n",
    "## Objective\n",
    "To solve a business problem using **Linear Programming** to maximize profit. We use the `PuLP` library in Python to model and solve the optimization problem.\n",
    "\n",
    "---\n",
    "\n",
    "## Business Scenario\n",
    "A factory produces two products: **Product A** and **Product B**. These products require time on two machines. Each product earns a profit:\n",
    "\n",
    "| Product    | Machine 1 (hrs) | Machine 2 (hrs) | Profit per Unit (₹) |\n",
    "|------------|------------------|------------------|-----------------------|\n",
    "| Product A  | 2                | 1                | ₹60                  |\n",
    "| Product B  | 1                | 1                | ₹40                  |\n",
    "\n",
    "Machine availability:\n",
    "- Machine 1: 100 hours\n",
    "- Machine 2: 80 hours\n",
    "\n",
    "---\n",
    "\n",
    "## Problem Formulation\n",
    "\n",
    "Let:\n",
    "- `x` = number of units of Product A\n",
    "- `y` = number of units of Product B\n",
    "\n",
    "**Objective:** Maximize `60x + 40y`\n",
    "\n",
    "**Subject to constraints:**\n",
    "- `2x + 1y ≤ 100` (Machine 1 constraint)\n",
    "- `1x + 1y ≤ 80` (Machine 2 constraint)\n",
    "- `x ≥ 0`, `y ≥ 0`\n"
   ]
  },
  {
   "cell_type": "code",
   "execution_count": 3,
   "metadata": {},
   "outputs": [
    {
     "name": "stdout",
     "output_type": "stream",
     "text": [
      "Status: 1\n",
      "Optimal number of Product A: 20.0\n",
      "Optimal number of Product B: 60.0\n",
      "Maximum Profit: ₹3600.0\n"
     ]
    }
   ],
   "source": [
    "#  Linear Programming using PuLP\n",
    "from pulp import LpMaximize, LpProblem, LpVariable, value\n",
    "\n",
    "# Create the model\n",
    "model = LpProblem(\"Maximize_Profit\", LpMaximize)\n",
    "\n",
    "# Define decision variables\n",
    "x = LpVariable(\"Product_A\", lowBound=0)\n",
    "y = LpVariable(\"Product_B\", lowBound=0)\n",
    "\n",
    "# Objective function\n",
    "model += 60 * x + 40 * y, \"Total_Profit\"\n",
    "\n",
    "# Constraints\n",
    "model += 2 * x + 1 * y <= 100, \"Machine_1_Hours\"\n",
    "model += 1 * x + 1 * y <= 80, \"Machine_2_Hours\"\n",
    "\n",
    "# Solve the problem\n",
    "model.solve()\n",
    "\n",
    "# Results\n",
    "print(f\"Status: {model.status}\")\n",
    "print(f\"Optimal number of Product A: {x.varValue}\")\n",
    "print(f\"Optimal number of Product B: {y.varValue}\")\n",
    "print(f\"Maximum Profit: ₹{value(model.objective)}\")"
   ]
  },
  {
   "cell_type": "markdown",
   "metadata": {},
   "source": [
    "---\n",
    "## Output & Interpretation\n",
    "- The optimal solution gives the number of units for **Product A** and **Product B** to produce.\n",
    "- It ensures that the time constraints of Machine 1 and Machine 2 are not violated.\n",
    "- The final profit is printed in ₹ (INR).\n",
    "\n",
    "---\n",
    "## Submission\n",
    "This notebook is part of **Task 4 of the CODTECH Data Science Internship**, demonstrating optimization problem-solving with real business constraints using Python."
   ]
  }
 ],
 "metadata": {
  "kernelspec": {
   "display_name": "Python 3",
   "language": "python",
   "name": "python3"
  },
  "language_info": {
   "codemirror_mode": {
    "name": "ipython",
    "version": 3
   },
   "file_extension": ".py",
   "mimetype": "text/x-python",
   "name": "python",
   "nbconvert_exporter": "python",
   "pygments_lexer": "ipython3",
   "version": "3.12.8"
  }
 },
 "nbformat": 4,
 "nbformat_minor": 5
}
